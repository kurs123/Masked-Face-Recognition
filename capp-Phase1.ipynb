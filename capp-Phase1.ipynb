{
 "cells": [
  {
   "cell_type": "code",
   "execution_count": null,
   "id": "93a9bf3f",
   "metadata": {},
   "outputs": [],
   "source": [
    "# pip install pillow"
   ]
  },
  {
   "cell_type": "code",
   "execution_count": null,
   "id": "f63afb42",
   "metadata": {},
   "outputs": [],
   "source": [
    "# pip install opencv-python"
   ]
  },
  {
   "cell_type": "code",
   "execution_count": null,
   "id": "faabaa50",
   "metadata": {},
   "outputs": [],
   "source": []
  },
  {
   "cell_type": "code",
   "execution_count": 3,
   "id": "bfd866ca",
   "metadata": {},
   "outputs": [],
   "source": [
    "from tkinter import *\n",
    "from tkinter import ttk\n",
    "from tkinter import messagebox\n",
    "import numpy as np\n",
    "import cv2\n",
    "from datetime import datetime\n",
    "import time\n",
    "\n",
    "\n",
    "\n",
    "\n",
    "window = Tk()\n",
    "window.title(\"Video Record\")\n",
    "window.geometry('700x500')\n",
    "window.configure(background = \"lightyellow\")\n",
    "\n",
    "\n",
    "\n",
    "def myfunction(*args):\n",
    "    z = stringvar1.get()\n",
    "    x = stringvar2.get()\n",
    "    y = stringvar3.get()\n",
    "    a = stringvar4.get()\n",
    "    if x and y and z and a:\n",
    "        record_button.config(state='normal')\n",
    "      \n",
    "    else:\n",
    "        record_button.config(state='disabled')\n",
    "\n",
    "\n",
    "stringvar1 = StringVar(window)\n",
    "stringvar2 = StringVar(window)\n",
    "stringvar3 = StringVar(window)\n",
    "stringvar4 = StringVar(window)\n",
    "\n",
    "\n",
    "stringvar1.trace(\"w\", myfunction)\n",
    "stringvar2.trace(\"w\", myfunction)\n",
    "stringvar3.trace(\"w\", myfunction)\n",
    "stringvar4.trace(\"w\", myfunction)\n",
    "\n",
    "a1 = Entry(window,textvariable=stringvar1)\n",
    "a1.place(relx=.3, rely=.1)\n",
    "\n",
    "b1 = Entry(window,textvariable=stringvar2)\n",
    "b1.place(relx=.3, rely=.2)\n",
    "\n",
    "c1 = Entry(window,textvariable=stringvar3)\n",
    "c1.place(relx=.3, rely=.3)\n",
    "\n",
    "d1 = Entry(window,textvariable=stringvar4)\n",
    "d1.place(relx=.3, rely=.4)\n",
    "\n",
    "\n",
    "a = Label(window ,text = \"First Name\").place(relx=.1, rely=.1)\n",
    "b = Label(window ,text = \"Last Name\").place(relx=.1, rely=.2)\n",
    "c = Label(window ,text = \"Batch\").place(relx=.1, rely=.3)\n",
    "d = Label(window ,text = \"Roll Number\").place(relx=.1, rely=.4)\n",
    "\n",
    " \n",
    "def clicked():\n",
    "    res = \"Welcome to \" + txt.get()\n",
    "    lbl.configure(text= res)\n",
    "    \n",
    "def submit():\n",
    "    # m_box.showwarning('title', 'content of this message box !! ')\n",
    "\n",
    "    if len(a1.get())==0 or len(b1.get())==0 or len(c1.get())==0 or len(d1.get())==0:\n",
    "        messagebox.showerror('Error', 'Please fill all the fields ')\n",
    "    else:\n",
    "        messagebox.showinfo(title = 'Thanks!',message = 'You can start recording now!')\n",
    "        \n",
    "        \n",
    "\n",
    "\n",
    "def record():\n",
    "    \n",
    "    capture_duration = 60\n",
    "\n",
    "    cap = cv2.VideoCapture(0)\n",
    "\n",
    "    fourcc = cv2.VideoWriter_fourcc(*'XVID')\n",
    "    PREFIX = f'{a1.get()}-{b1.get()}'\n",
    "    EXTENSION = 'mp4'\n",
    "    file_name_format = \"{:s}-{:%Y%m%d_%H%M%S}.{:s}\"\n",
    "    \n",
    "    date = datetime.now()\n",
    "    file_name = file_name_format.format(PREFIX, date, EXTENSION)\n",
    "    out = cv2.VideoWriter(file_name,fourcc, 20.0, (640,480))\n",
    "  \n",
    "    start_time = time.time()\n",
    "    while( int(time.time() - start_time) <= capture_duration ):\n",
    "        ret, frame = cap.read()\n",
    "        if ret==True:\n",
    "          \n",
    "            out.write(frame)\n",
    "            cv2.imshow('frame',frame)\n",
    "            if cv2.waitKey(1) & 0xFF == ord('q') or cv2.waitKey(1) & 0xFF == ord('Q') :\n",
    "                break\n",
    "        \n",
    "        else:\n",
    "            break\n",
    "\n",
    "    cap.release()\n",
    "    out.release()\n",
    "    cv2.destroyAllWindows()\n",
    "\n",
    "\n",
    "#Buttons\n",
    "\n",
    "\n",
    "record_button=ttk.Button(window, text=\"Record\",command= record)\n",
    "record_button.place(relx =.8,rely =.6)\n",
    "record_button.config(state='disabled')\n",
    "\n",
    "\n",
    "window.mainloop()\n"
   ]
  },
  {
   "cell_type": "code",
   "execution_count": 1,
   "id": "0ab8f622",
   "metadata": {},
   "outputs": [
    {
     "data": {
      "text/plain": [
       "'C:\\\\Users\\\\Deepak pani\\\\Downloads\\\\praxis\\\\CAPP'"
      ]
     },
     "execution_count": 1,
     "metadata": {},
     "output_type": "execute_result"
    }
   ],
   "source": [
    "pwd"
   ]
  },
  {
   "cell_type": "code",
   "execution_count": 2,
   "id": "f931b4a9",
   "metadata": {},
   "outputs": [],
   "source": [
    "import os\n",
    "os.chdir('C:\\\\Users\\\\Deepak pani\\\\Downloads\\\\praxis\\\\CAPP')"
   ]
  },
  {
   "cell_type": "code",
   "execution_count": 208,
   "id": "721f577b",
   "metadata": {},
   "outputs": [],
   "source": []
  },
  {
   "cell_type": "code",
   "execution_count": null,
   "id": "5a6ff6f5",
   "metadata": {},
   "outputs": [],
   "source": []
  }
 ],
 "metadata": {
  "kernelspec": {
   "display_name": "Python 3 (ipykernel)",
   "language": "python",
   "name": "python3"
  },
  "language_info": {
   "codemirror_mode": {
    "name": "ipython",
    "version": 3
   },
   "file_extension": ".py",
   "mimetype": "text/x-python",
   "name": "python",
   "nbconvert_exporter": "python",
   "pygments_lexer": "ipython3",
   "version": "3.9.7"
  }
 },
 "nbformat": 4,
 "nbformat_minor": 5
}
